{
 "metadata": {
  "name": "",
  "signature": "sha256:0258f2ab87d1f3d281ba23fb6027fdd69e192ffe4cb15da412773c01686aee3e"
 },
 "nbformat": 3,
 "nbformat_minor": 0,
 "worksheets": [
  {
   "cells": [
    {
     "cell_type": "code",
     "collapsed": false,
     "input": [
      "import numpy as np\n",
      "import pandas as pd\n",
      "%matplotlib inline\n",
      "import matplotlib.pyplot as plt\n",
      "from ggplot import *"
     ],
     "language": "python",
     "metadata": {},
     "outputs": [],
     "prompt_number": 1
    },
    {
     "cell_type": "code",
     "collapsed": false,
     "input": [
      "years = range(1880, 2014)\n",
      "\n",
      "dirName = '/Users/gabrielaliquo/pythongame/names/'\n",
      "\n",
      "pieces = []\n",
      "columns = ['name','sex','births']\n",
      "\n",
      "for year in years:\n",
      "    path = dirName + 'yob%d.txt' % year\n",
      "    frame = pd.read_csv(path, names=columns)\n",
      "    frame['year'] = year\n",
      "    frame['age'] = 2015 - year\n",
      "    pieces.append(frame)\n",
      "\n",
      "names = pd.concat(pieces, ignore_index=True)"
     ],
     "language": "python",
     "metadata": {},
     "outputs": [],
     "prompt_number": 3
    },
    {
     "cell_type": "code",
     "collapsed": false,
     "input": [
      "years = range(1880, 2014)\n",
      "print years"
     ],
     "language": "python",
     "metadata": {},
     "outputs": [
      {
       "output_type": "stream",
       "stream": "stdout",
       "text": [
        "[1880, 1881, 1882, 1883, 1884, 1885, 1886, 1887, 1888, 1889, 1890, 1891, 1892, 1893, 1894, 1895, 1896, 1897, 1898, 1899, 1900, 1901, 1902, 1903, 1904, 1905, 1906, 1907, 1908, 1909, 1910, 1911, 1912, 1913, 1914, 1915, 1916, 1917, 1918, 1919, 1920, 1921, 1922, 1923, 1924, 1925, 1926, 1927, 1928, 1929, 1930, 1931, 1932, 1933, 1934, 1935, 1936, 1937, 1938, 1939, 1940, 1941, 1942, 1943, 1944, 1945, 1946, 1947, 1948, 1949, 1950, 1951, 1952, 1953, 1954, 1955, 1956, 1957, 1958, 1959, 1960, 1961, 1962, 1963, 1964, 1965, 1966, 1967, 1968, 1969, 1970, 1971, 1972, 1973, 1974, 1975, 1976, 1977, 1978, 1979, 1980, 1981, 1982, 1983, 1984, 1985, 1986, 1987, 1988, 1989, 1990, 1991, 1992, 1993, 1994, 1995, 1996, 1997, 1998, 1999, 2000, 2001, 2002, 2003, 2004, 2005, 2006, 2007, 2008, 2009, 2010, 2011, 2012, 2013]\n"
       ]
      }
     ],
     "prompt_number": 4
    },
    {
     "cell_type": "code",
     "collapsed": false,
     "input": [
      "dirName = '/Users/gabrielaliquo/pythongame/names/'\n",
      "print dirName"
     ],
     "language": "python",
     "metadata": {},
     "outputs": [
      {
       "output_type": "stream",
       "stream": "stdout",
       "text": [
        "/Users/gabrielaliquo/pythongame/names/\n"
       ]
      }
     ],
     "prompt_number": 5
    },
    {
     "cell_type": "code",
     "collapsed": false,
     "input": [
      "pieces = []\n",
      "columns = ['name','sex','births']\n",
      "print pieces\n",
      "print columns"
     ],
     "language": "python",
     "metadata": {},
     "outputs": [
      {
       "output_type": "stream",
       "stream": "stdout",
       "text": [
        "[]\n",
        "['name', 'sex', 'births']\n"
       ]
      }
     ],
     "prompt_number": 6
    },
    {
     "cell_type": "code",
     "collapsed": false,
     "input": [
      "for year in years:\n",
      "    path = dirName + 'yob%d.txt' % year\n",
      "    frame = pd.read_csv(path, names=columns)\n",
      "    frame['year'] = year\n",
      "    frame['age'] = 2015 - year\n",
      "    pieces.append(frame)\n",
      "names = pd.concat(pieces, ignore_index=True)"
     ],
     "language": "python",
     "metadata": {},
     "outputs": [],
     "prompt_number": 7
    },
    {
     "cell_type": "code",
     "collapsed": false,
     "input": [
      "print names"
     ],
     "language": "python",
     "metadata": {},
     "outputs": [
      {
       "output_type": "stream",
       "stream": "stdout",
       "text": [
        "              name sex  births  year  age\n",
        "0             Mary   F    7065  1880  135\n",
        "1             Anna   F    2604  1880  135\n",
        "2             Emma   F    2003  1880  135\n",
        "3        Elizabeth   F    1939  1880  135\n",
        "4           Minnie   F    1746  1880  135\n",
        "5         Margaret   F    1578  1880  135\n",
        "6              Ida   F    1472  1880  135\n",
        "7            Alice   F    1414  1880  135\n",
        "8           Bertha   F    1320  1880  135\n",
        "9            Sarah   F    1288  1880  135\n",
        "10           Annie   F    1258  1880  135\n",
        "11           Clara   F    1226  1880  135\n",
        "12            Ella   F    1156  1880  135\n",
        "13        Florence   F    1063  1880  135\n",
        "14            Cora   F    1045  1880  135\n",
        "15          Martha   F    1040  1880  135\n",
        "16           Laura   F    1012  1880  135\n",
        "17          Nellie   F     995  1880  135\n",
        "18           Grace   F     982  1880  135\n",
        "19          Carrie   F     949  1880  135\n",
        "20           Maude   F     858  1880  135\n",
        "21           Mabel   F     808  1880  135\n",
        "22          Bessie   F     796  1880  135\n",
        "23          Jennie   F     793  1880  135\n",
        "24        Gertrude   F     787  1880  135\n",
        "25           Julia   F     783  1880  135\n",
        "26          Hattie   F     769  1880  135\n",
        "27           Edith   F     768  1880  135\n",
        "28          Mattie   F     704  1880  135\n",
        "29            Rose   F     700  1880  135\n",
        "...            ...  ..     ...   ...  ...\n",
        "1792061    Zayceon   M       5  2013    2\n",
        "1792062      Zayid   M       5  2013    2\n",
        "1792063    Zaylynn   M       5  2013    2\n",
        "1792064  Zecheriah   M       5  2013    2\n",
        "1792065     Zedric   M       5  2013    2\n",
        "1792066     Zefram   M       5  2013    2\n",
        "1792067      Zekhi   M       5  2013    2\n",
        "1792068     Zenith   M       5  2013    2\n",
        "1792069     Zennon   M       5  2013    2\n",
        "1792070    Zepplin   M       5  2013    2\n",
        "1792071      Zevon   M       5  2013    2\n",
        "1792072    Zhaiden   M       5  2013    2\n",
        "1792073       Zhen   M       5  2013    2\n",
        "1792074      Zhian   M       5  2013    2\n",
        "1792075       Zien   M       5  2013    2\n",
        "1792076     Zierre   M       5  2013    2\n",
        "1792077      Zimri   M       5  2013    2\n",
        "1792078     Ziquan   M       5  2013    2\n",
        "1792079     Ziyaad   M       5  2013    2\n",
        "1792080     Ziyang   M       5  2013    2\n",
        "1792081      Zmari   M       5  2013    2\n",
        "1792082      Zolan   M       5  2013    2\n",
        "1792083     Zurich   M       5  2013    2\n",
        "1792084      Zyeer   M       5  2013    2\n",
        "1792085      Zyere   M       5  2013    2\n",
        "1792086     Zyhier   M       5  2013    2\n",
        "1792087      Zylar   M       5  2013    2\n",
        "1792088     Zymari   M       5  2013    2\n",
        "1792089     Zymeer   M       5  2013    2\n",
        "1792090      Zyree   M       5  2013    2\n",
        "\n",
        "[1792091 rows x 5 columns]\n"
       ]
      }
     ],
     "prompt_number": 9
    },
    {
     "cell_type": "code",
     "collapsed": false,
     "input": [
      "names = pd.concat(pieces, ignore_index=True)"
     ],
     "language": "python",
     "metadata": {},
     "outputs": [],
     "prompt_number": 10
    },
    {
     "cell_type": "code",
     "collapsed": false,
     "input": [
      "print names.head(n=10)"
     ],
     "language": "python",
     "metadata": {},
     "outputs": []
    },
    {
     "cell_type": "code",
     "collapsed": false,
     "input": [
      "#created pivot table total_births)\n",
      "total_births = names.pivot_table('births', index='year', columns='sex', aggfunc=sum"
     ],
     "language": "python",
     "metadata": {},
     "outputs": []
    },
    {
     "cell_type": "code",
     "collapsed": false,
     "input": [
      "#reading the pivot table created in the step prior\n",
      "print total_births.head(n=5)\n",
      "print total_births.tail(n=5)"
     ],
     "language": "python",
     "metadata": {},
     "outputs": []
    },
    {
     "cell_type": "code",
     "collapsed": false,
     "input": [
      "#ploting the pivot table created in the two steps prior\n",
      "total_births.plot(title='Total births by sex and year')"
     ],
     "language": "python",
     "metadata": {},
     "outputs": []
    },
    {
     "cell_type": "code",
     "collapsed": false,
     "input": [
      "#adds the year to the pivot table total_births\n",
      "total_births['year'] = total_births.index\n",
      "print total_births.head(n=5)"
     ],
     "language": "python",
     "metadata": {},
     "outputs": []
    },
    {
     "cell_type": "code",
     "collapsed": false,
     "input": [
      "#Made pivot table to just have column by year with columns 'year', 'sex', 'value'\n",
      "melted_total_births = pd.melt(total_births, id_vars='year')\n",
      "print melted_total_births.head(n=5)\n",
      "print melted_total_births.tail(n=5)"
     ],
     "language": "python",
     "metadata": {},
     "outputs": []
    },
    {
     "cell_type": "code",
     "collapsed": false,
     "input": [
      "melted_total_births1 = total_births[['F', 'M']].stack('sex')\n",
      "melted_total_births1.name = 'total_birth'\n",
      "print melted_total_births1.head(n=5)\n",
      "print\"\\n\"\n",
      "print type(melted_total_births1)"
     ],
     "language": "python",
     "metadata": {},
     "outputs": []
    },
    {
     "cell_type": "code",
     "collapsed": false,
     "input": [
      "melted_total_births2 = melted_total_births1.reset_index()\n",
      "#melted_total_briths2.columns = ['year', 'sex', 'total_birth']\n",
      "print melted_total_births2.head(n=5)\n",
      "print \"\\n\"\n",
      "print type(melted_total_births2)"
     ],
     "language": "python",
     "metadata": {},
     "outputs": []
    },
    {
     "cell_type": "code",
     "collapsed": false,
     "input": [
      "unmelted_total_births2 = melted_total_births1.unstack()\n",
      "print unmelted_total_births2.head(n=5)"
     ],
     "language": "python",
     "metadata": {},
     "outputs": []
    },
    {
     "cell_type": "code",
     "collapsed": false,
     "input": [
      "melted_total_births3 = melted_total_births2.set_index(['year', 'sex'])\n",
      "print melted_total_births3.head(n=5)"
     ],
     "language": "python",
     "metadata": {},
     "outputs": []
    },
    {
     "cell_type": "code",
     "collapsed": false,
     "input": [
      "unmelted_total_births3 = melted_total_births3.unstack()\n",
      "print unmelted_total_births3.head(n=5)"
     ],
     "language": "python",
     "metadata": {},
     "outputs": []
    },
    {
     "cell_type": "code",
     "collapsed": false,
     "input": [
      "#First line is adding a column 'sex1' with a value of 1\n",
      "melted_total_births['sex1'] = 1\n",
      "#Second line is testing whether sex = 'F' if it does then value of 'sex1' will be 2 all else will be one\n",
      "melted_total_births['sex1'][melted_total_births.sex == 'F']=2\n",
      "print melted_total_births.head(n=5)\n",
      "print melted_total_births.tail(n=5)"
     ],
     "language": "python",
     "metadata": {},
     "outputs": []
    },
    {
     "cell_type": "code",
     "collapsed": false,
     "input": [
      "print melted_total_births[(melted_total_births.year <= 1884)&(melted_total_births.sex == 'F')]"
     ],
     "language": "python",
     "metadata": {},
     "outputs": []
    },
    {
     "cell_type": "code",
     "collapsed": false,
     "input": [
      "print names[(names.name == 'Gabriel')&(names.sex == 'M')&(names.year == 1989)]"
     ],
     "language": "python",
     "metadata": {},
     "outputs": []
    },
    {
     "cell_type": "code",
     "collapsed": false,
     "input": [
      "Emily = names[(names.name == 'Emily')&(names.sex == 'F')]\n",
      "Emily_births = Emily.pivot_table('births', index='year', columns='name')"
     ],
     "language": "python",
     "metadata": {},
     "outputs": []
    },
    {
     "cell_type": "code",
     "collapsed": false,
     "input": [
      "Emily_births.plot(title='Emilys born every year')"
     ],
     "language": "python",
     "metadata": {},
     "outputs": []
    },
    {
     "cell_type": "code",
     "collapsed": false,
     "input": [
      "Gabriel = names[(names.name == 'Gabriel')&(names.sex == 'M')]\n",
      "Gabriel_births = Gabriel.pivot_table('births', index='year', columns='name')\n",
      "Gabriel_births.plot(title='Gabriels born every year')"
     ],
     "language": "python",
     "metadata": {},
     "outputs": []
    },
    {
     "cell_type": "code",
     "collapsed": false,
     "input": [
      "NameList = ['Matthew', 'Erica', 'Francis', 'Zachary', 'Emily', 'Gabriel', 'Audrey', 'Judith', 'Erin', 'James']\n",
      "SpecificNameInfo = names[['name', 'year', 'births']][names.name.isin(NameList)].reset_index()\n",
      "SpecificNameInfo.births = SpecificNameInfo.births.astype(float)\n",
      "print SpecificNameInfo[SpecificNameInfo.name == 'Gabriel'].head(n=5)"
     ],
     "language": "python",
     "metadata": {},
     "outputs": []
    },
    {
     "cell_type": "code",
     "collapsed": false,
     "input": [
      "Hoovers = names[names.name.isin(NameList)]\n",
      "total_births = Hoovers.pivot_table('births', index='year', columns='name')\n",
      "total_births.plot(title='Hoovers/Aliquo born every year').legend(loc='center left', bbox_to_anchor=(1, 0.5))"
     ],
     "language": "python",
     "metadata": {},
     "outputs": []
    },
    {
     "cell_type": "code",
     "collapsed": false,
     "input": [
      "ggplot(SpecificNameInfo, aes(x='year', y='births', group='name', color='name')) + geom_line(size=2.) + xlab('Year') + scale_y_continuous(labels='birth') + ggtitle('Name Counts for the Hoover/Aliquo Family per Year') + theme_seaborn(style='whitegrid')#+facet_grid('name')"
     ],
     "language": "python",
     "metadata": {},
     "outputs": []
    }
   ],
   "metadata": {}
  }
 ]
}