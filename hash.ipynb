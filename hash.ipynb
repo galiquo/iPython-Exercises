{
 "metadata": {
  "name": "",
  "signature": "sha256:c52c83dcf064bdd6b15f124bdf3788253b98f5dcca4149804c32463cf1acb5ac"
 },
 "nbformat": 3,
 "nbformat_minor": 0,
 "worksheets": [
  {
   "cells": [
    {
     "cell_type": "code",
     "collapsed": false,
     "input": [
      "mystuff = {'apple': \"I AM APPLES!\"}\n",
      "print mystuff['apple']"
     ],
     "language": "python",
     "metadata": {},
     "outputs": []
    }
   ],
   "metadata": {}
  }
 ]
}