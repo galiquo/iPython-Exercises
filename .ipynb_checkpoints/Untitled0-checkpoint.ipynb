{
 "metadata": {
  "name": "",
  "signature": "sha256:8c72267ef7941a38a98e1da636fca02557048b0052f4cb07cf4e3bc07513aab4"
 },
 "nbformat": 3,
 "nbformat_minor": 0,
 "worksheets": []
}