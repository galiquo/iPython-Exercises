{
 "metadata": {
  "name": "",
  "signature": "sha256:a7ecec55983b45fb29340591139483b2296483cf496ce67a251bf6152aa922ef"
 },
 "nbformat": 3,
 "nbformat_minor": 0,
 "worksheets": [
  {
   "cells": [
    {
     "cell_type": "code",
     "collapsed": false,
     "input": [
      "import numpy as np\n",
      "import pandas as pd\n",
      "%matplotlib inline\n",
      "import matplotlib.pyplot as plt\n",
      "from ggplot import *"
     ],
     "language": "python",
     "metadata": {},
     "outputs": [],
     "prompt_number": 1
    },
    {
     "cell_type": "code",
     "collapsed": false,
     "input": [
      "years = range(1880, 2014)\n",
      "\n",
      "dirName = '/Users/gabrielaliquo/pythongame/names/'\n",
      "\n",
      "pieces = []\n",
      "columns = ['name','sex','births']\n",
      "\n",
      "for year in years:\n",
      "    path = dirName + 'yob%d.txt' % year\n",
      "    frame = pd.read_csv(path, names=columns)\n",
      "    frame['year'] = year\n",
      "    frame['age'] = 2015 - year\n",
      "    pieces.append(frame)\n",
      "\n",
      "names = pd.concat(pieces, ignore_index=True)"
     ],
     "language": "python",
     "metadata": {},
     "outputs": [],
     "prompt_number": 2
    },
    {
     "cell_type": "code",
     "collapsed": false,
     "input": [
      "years = range(1880, 2014)\n",
      "print years"
     ],
     "language": "python",
     "metadata": {},
     "outputs": []
    },
    {
     "cell_type": "code",
     "collapsed": false,
     "input": [
      "dirName = '/Users/gabrielaliquo/pythongame/names/'\n",
      "print dirName"
     ],
     "language": "python",
     "metadata": {},
     "outputs": []
    },
    {
     "cell_type": "code",
     "collapsed": false,
     "input": [
      "pieces = []\n",
      "columns = ['name','sex','births']\n",
      "print pieces\n",
      "print columns"
     ],
     "language": "python",
     "metadata": {},
     "outputs": []
    },
    {
     "cell_type": "code",
     "collapsed": false,
     "input": [
      "for year in years:\n",
      "    path = dirName + 'yob%d.txt' % year\n",
      "    frame = pd.read_csv(path, names=columns)\n",
      "    frame['year'] = year\n",
      "    frame['age'] = 2015 - year\n",
      "    pieces.append(frame)\n",
      "names = pd.concat(pieces, ignore_index=True)"
     ],
     "language": "python",
     "metadata": {},
     "outputs": []
    },
    {
     "cell_type": "code",
     "collapsed": false,
     "input": [
      "print names.head(n=10)"
     ],
     "language": "python",
     "metadata": {},
     "outputs": [
      {
       "output_type": "stream",
       "stream": "stdout",
       "text": [
        "        name sex  births  year  age\n",
        "0       Mary   F    7065  1880  135\n",
        "1       Anna   F    2604  1880  135\n",
        "2       Emma   F    2003  1880  135\n",
        "3  Elizabeth   F    1939  1880  135\n",
        "4     Minnie   F    1746  1880  135\n",
        "5   Margaret   F    1578  1880  135\n",
        "6        Ida   F    1472  1880  135\n",
        "7      Alice   F    1414  1880  135\n",
        "8     Bertha   F    1320  1880  135\n",
        "9      Sarah   F    1288  1880  135\n"
       ]
      }
     ],
     "prompt_number": 4
    },
    {
     "cell_type": "code",
     "collapsed": false,
     "input": [
      "names = pd.concat(pieces, ignore_index=True)"
     ],
     "language": "python",
     "metadata": {},
     "outputs": []
    },
    {
     "cell_type": "code",
     "collapsed": false,
     "input": [
      "print names.head(n=10)"
     ],
     "language": "python",
     "metadata": {},
     "outputs": []
    },
    {
     "cell_type": "code",
     "collapsed": false,
     "input": [
      "#created pivot table total_births)\n",
      "total_births = names.pivot_table('births', index='year', columns='sex', aggfunc=sum"
     ],
     "language": "python",
     "metadata": {},
     "outputs": []
    },
    {
     "cell_type": "code",
     "collapsed": false,
     "input": [
      "#reading the pivot table created in the step prior\n",
      "print total_births.head(n=5)\n",
      "print total_births.tail(n=5)"
     ],
     "language": "python",
     "metadata": {},
     "outputs": []
    },
    {
     "cell_type": "code",
     "collapsed": false,
     "input": [
      "#ploting the pivot table created in the two steps prior\n",
      "total_births.plot(title='Total births by sex and year')"
     ],
     "language": "python",
     "metadata": {},
     "outputs": []
    },
    {
     "cell_type": "code",
     "collapsed": false,
     "input": [
      "#adds the year to the pivot table total_births\n",
      "total_births['year'] = total_births.index\n",
      "print total_births.head(n=5)"
     ],
     "language": "python",
     "metadata": {},
     "outputs": []
    },
    {
     "cell_type": "code",
     "collapsed": false,
     "input": [
      "#Made pivot table to just have column by year with columns 'year', 'sex', 'value'\n",
      "melted_total_births = pd.melt(total_births, id_vars='year')\n",
      "print melted_total_births.head(n=5)\n",
      "print melted_total_births.tail(n=5)"
     ],
     "language": "python",
     "metadata": {},
     "outputs": []
    },
    {
     "cell_type": "code",
     "collapsed": false,
     "input": [
      "melted_total_births1 = total_births[['F', 'M']].stack('sex')\n",
      "melted_total_births1.name = 'total_birth'\n",
      "print melted_total_births1.head(n=5)\n",
      "print\"\\n\"\n",
      "print type(melted_total_births1)"
     ],
     "language": "python",
     "metadata": {},
     "outputs": []
    },
    {
     "cell_type": "code",
     "collapsed": false,
     "input": [
      "melted_total_births2 = melted_total_births1.reset_index()\n",
      "#melted_total_briths2.columns = ['year', 'sex', 'total_birth']\n",
      "print melted_total_births2.head(n=5)\n",
      "print \"\\n\"\n",
      "print type(melted_total_births2)"
     ],
     "language": "python",
     "metadata": {},
     "outputs": []
    },
    {
     "cell_type": "code",
     "collapsed": false,
     "input": [
      "unmelted_total_births2 = melted_total_births1.unstack()\n",
      "print unmelted_total_births2.head(n=5)"
     ],
     "language": "python",
     "metadata": {},
     "outputs": []
    },
    {
     "cell_type": "code",
     "collapsed": false,
     "input": [
      "melted_total_births3 = melted_total_births2.set_index(['year', 'sex'])\n",
      "print melted_total_births3.head(n=5)"
     ],
     "language": "python",
     "metadata": {},
     "outputs": []
    },
    {
     "cell_type": "code",
     "collapsed": false,
     "input": [
      "unmelted_total_births3 = melted_total_births3.unstack()\n",
      "print unmelted_total_births3.head(n=5)"
     ],
     "language": "python",
     "metadata": {},
     "outputs": []
    },
    {
     "cell_type": "code",
     "collapsed": false,
     "input": [
      "#First line is adding a column 'sex1' with a value of 1\n",
      "melted_total_births['sex1'] = 1\n",
      "#Second line is testing whether sex = 'F' if it does then value of 'sex1' will be 2 all else will be one\n",
      "melted_total_births['sex1'][melted_total_births.sex == 'F']=2\n",
      "print melted_total_births.head(n=5)\n",
      "print melted_total_births.tail(n=5)"
     ],
     "language": "python",
     "metadata": {},
     "outputs": []
    },
    {
     "cell_type": "code",
     "collapsed": false,
     "input": [
      "print melted_total_births[(melted_total_births.year <= 1884)&(melted_total_births.sex == 'F')]"
     ],
     "language": "python",
     "metadata": {},
     "outputs": []
    },
    {
     "cell_type": "code",
     "collapsed": false,
     "input": [
      "print names[(names.name == 'Gabriel')&(names.sex == 'M')&(names.year == 1989)]"
     ],
     "language": "python",
     "metadata": {},
     "outputs": []
    },
    {
     "cell_type": "code",
     "collapsed": false,
     "input": [
      "Emily = names[(names.name == 'Emily')&(names.sex == 'F')]\n",
      "Emily_births = Emily.pivot_table('births', index='year', columns='name')"
     ],
     "language": "python",
     "metadata": {},
     "outputs": []
    },
    {
     "cell_type": "code",
     "collapsed": false,
     "input": [
      "Emily_births.plot(title='Emilys born every year')"
     ],
     "language": "python",
     "metadata": {},
     "outputs": []
    },
    {
     "cell_type": "code",
     "collapsed": false,
     "input": [
      "Gabriel = names[(names.name == 'Gabriel')&(names.sex == 'M')]\n",
      "Gabriel_births = Gabriel.pivot_table('births', index='year', columns='name')\n",
      "Gabriel_births.plot(title='Gabriels born every year')"
     ],
     "language": "python",
     "metadata": {},
     "outputs": []
    },
    {
     "cell_type": "code",
     "collapsed": false,
     "input": [
      "NameList = ['Matthew', 'Erica', 'Francis', 'Zachary', 'Emily', 'Gabriel', 'Audrey', 'Judith', 'Erin', 'James']\n",
      "SpecificNameInfo = names[['name', 'year', 'births']][names.name.isin(NameList)].reset_index()\n",
      "SpecificNameInfo.births = SpecificNameInfo.births.astype(float)\n",
      "print SpecificNameInfo[SpecificNameInfo.name == 'Gabriel'].head(n=5)"
     ],
     "language": "python",
     "metadata": {},
     "outputs": []
    },
    {
     "cell_type": "code",
     "collapsed": false,
     "input": [
      "Hoovers = names[names.name.isin(NameList)]\n",
      "total_births = Hoovers.pivot_table('births', index='year', columns='name')\n",
      "total_births.plot(title='Hoovers/Aliquo born every year').legend(loc='center left', bbox_to_anchor=(1, 0.5))"
     ],
     "language": "python",
     "metadata": {},
     "outputs": []
    },
    {
     "cell_type": "code",
     "collapsed": false,
     "input": [
      "ggplot(SpecificNameInfo, aes(x='year', y='births', group='name', color='name')) + geom_line(size=2.) + xlab('Year') + scale_y_continuous(labels='birth') + ggtitle('Name Counts for the Hoover/Aliquo Family per Year') + theme_seaborn(style='whitegrid')#+facet_grid('name')"
     ],
     "language": "python",
     "metadata": {},
     "outputs": []
    }
   ],
   "metadata": {}
  }
 ]
}